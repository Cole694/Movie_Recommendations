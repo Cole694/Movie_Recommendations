{
 "cells": [
  {
   "cell_type": "markdown",
   "metadata": {},
   "source": [
    "# Movie recommendations\n",
    "In the following project the given csv files are read and combined into a single DataFrame for analysing and processing"
   ]
  },
  {
   "cell_type": "code",
   "execution_count": 23,
   "metadata": {},
   "outputs": [],
   "source": [
    "# imports\n",
    "import pandas as pd\n",
    "import numpy as np\n",
    "import matplotlib.pyplot as plt\n",
    "import seaborn as sns"
   ]
  },
  {
   "cell_type": "markdown",
   "metadata": {},
   "source": [
    "## Section 1\n",
    "In this section the csv files are read , merged into 1 DataFrame and the columns are assigned specified value names."
   ]
  },
  {
   "cell_type": "code",
   "execution_count": 24,
   "metadata": {},
   "outputs": [],
   "source": [
    "# assign variables to each file\n",
    "links = pd.read_csv(\"C:\\\\Users\\\\heyle\\\\Downloads\\\\links.csv\")\n",
    "movies = pd.read_csv(\"C:\\\\Users\\\\heyle\\\\Downloads\\\\movies.csv\")\n",
    "ratings = pd.read_csv(\"C:\\\\Users\\\\heyle\\\\Downloads\\\\ratings.csv\")\n",
    "tags = pd.read_csv(\"C:\\\\Users\\\\heyle\\\\Downloads\\\\tags.csv\")"
   ]
  },
  {
   "cell_type": "code",
   "execution_count": 25,
   "metadata": {},
   "outputs": [],
   "source": [
    "# converging tables into 1\n",
    "links_movies = pd.merge(links, movies, on=\"movieId\")\n",
    "links_movies_ratings = pd.merge(links_movies, ratings, on=\"movieId\")\n",
    "links_movies_ratings_tags = pd.merge(links_movies_ratings, tags, on=\"movieId\")"
   ]
  },
  {
   "cell_type": "markdown",
   "metadata": {},
   "source": [
    "### Merged DataFrame"
   ]
  },
  {
   "cell_type": "code",
   "execution_count": 26,
   "metadata": {},
   "outputs": [
    {
     "data": {
      "text/html": [
       "<div>\n",
       "<style scoped>\n",
       "    .dataframe tbody tr th:only-of-type {\n",
       "        vertical-align: middle;\n",
       "    }\n",
       "\n",
       "    .dataframe tbody tr th {\n",
       "        vertical-align: top;\n",
       "    }\n",
       "\n",
       "    .dataframe thead th {\n",
       "        text-align: right;\n",
       "    }\n",
       "</style>\n",
       "<table border=\"1\" class=\"dataframe\">\n",
       "  <thead>\n",
       "    <tr style=\"text-align: right;\">\n",
       "      <th></th>\n",
       "      <th>movieId</th>\n",
       "      <th>imdbId</th>\n",
       "      <th>tmdbId</th>\n",
       "      <th>title</th>\n",
       "      <th>genres</th>\n",
       "      <th>userId_x</th>\n",
       "      <th>rating</th>\n",
       "      <th>timestamp_x</th>\n",
       "      <th>userId_y</th>\n",
       "      <th>tag</th>\n",
       "      <th>timestamp_y</th>\n",
       "    </tr>\n",
       "  </thead>\n",
       "  <tbody>\n",
       "    <tr>\n",
       "      <th>0</th>\n",
       "      <td>1</td>\n",
       "      <td>114709</td>\n",
       "      <td>862.0</td>\n",
       "      <td>Toy Story (1995)</td>\n",
       "      <td>Adventure|Animation|Children|Comedy|Fantasy</td>\n",
       "      <td>1</td>\n",
       "      <td>4.0</td>\n",
       "      <td>964982703</td>\n",
       "      <td>336</td>\n",
       "      <td>pixar</td>\n",
       "      <td>1139045764</td>\n",
       "    </tr>\n",
       "    <tr>\n",
       "      <th>1</th>\n",
       "      <td>1</td>\n",
       "      <td>114709</td>\n",
       "      <td>862.0</td>\n",
       "      <td>Toy Story (1995)</td>\n",
       "      <td>Adventure|Animation|Children|Comedy|Fantasy</td>\n",
       "      <td>1</td>\n",
       "      <td>4.0</td>\n",
       "      <td>964982703</td>\n",
       "      <td>474</td>\n",
       "      <td>pixar</td>\n",
       "      <td>1137206825</td>\n",
       "    </tr>\n",
       "    <tr>\n",
       "      <th>2</th>\n",
       "      <td>1</td>\n",
       "      <td>114709</td>\n",
       "      <td>862.0</td>\n",
       "      <td>Toy Story (1995)</td>\n",
       "      <td>Adventure|Animation|Children|Comedy|Fantasy</td>\n",
       "      <td>1</td>\n",
       "      <td>4.0</td>\n",
       "      <td>964982703</td>\n",
       "      <td>567</td>\n",
       "      <td>fun</td>\n",
       "      <td>1525286013</td>\n",
       "    </tr>\n",
       "    <tr>\n",
       "      <th>3</th>\n",
       "      <td>1</td>\n",
       "      <td>114709</td>\n",
       "      <td>862.0</td>\n",
       "      <td>Toy Story (1995)</td>\n",
       "      <td>Adventure|Animation|Children|Comedy|Fantasy</td>\n",
       "      <td>5</td>\n",
       "      <td>4.0</td>\n",
       "      <td>847434962</td>\n",
       "      <td>336</td>\n",
       "      <td>pixar</td>\n",
       "      <td>1139045764</td>\n",
       "    </tr>\n",
       "    <tr>\n",
       "      <th>4</th>\n",
       "      <td>1</td>\n",
       "      <td>114709</td>\n",
       "      <td>862.0</td>\n",
       "      <td>Toy Story (1995)</td>\n",
       "      <td>Adventure|Animation|Children|Comedy|Fantasy</td>\n",
       "      <td>5</td>\n",
       "      <td>4.0</td>\n",
       "      <td>847434962</td>\n",
       "      <td>474</td>\n",
       "      <td>pixar</td>\n",
       "      <td>1137206825</td>\n",
       "    </tr>\n",
       "    <tr>\n",
       "      <th>...</th>\n",
       "      <td>...</td>\n",
       "      <td>...</td>\n",
       "      <td>...</td>\n",
       "      <td>...</td>\n",
       "      <td>...</td>\n",
       "      <td>...</td>\n",
       "      <td>...</td>\n",
       "      <td>...</td>\n",
       "      <td>...</td>\n",
       "      <td>...</td>\n",
       "      <td>...</td>\n",
       "    </tr>\n",
       "    <tr>\n",
       "      <th>233208</th>\n",
       "      <td>187595</td>\n",
       "      <td>3778644</td>\n",
       "      <td>348350.0</td>\n",
       "      <td>Solo: A Star Wars Story (2018)</td>\n",
       "      <td>Action|Adventure|Children|Sci-Fi</td>\n",
       "      <td>586</td>\n",
       "      <td>5.0</td>\n",
       "      <td>1529899556</td>\n",
       "      <td>62</td>\n",
       "      <td>star wars</td>\n",
       "      <td>1528934552</td>\n",
       "    </tr>\n",
       "    <tr>\n",
       "      <th>233209</th>\n",
       "      <td>193565</td>\n",
       "      <td>1636780</td>\n",
       "      <td>71172.0</td>\n",
       "      <td>Gintama: The Movie (2010)</td>\n",
       "      <td>Action|Animation|Comedy|Sci-Fi</td>\n",
       "      <td>184</td>\n",
       "      <td>3.5</td>\n",
       "      <td>1537098554</td>\n",
       "      <td>184</td>\n",
       "      <td>anime</td>\n",
       "      <td>1537098582</td>\n",
       "    </tr>\n",
       "    <tr>\n",
       "      <th>233210</th>\n",
       "      <td>193565</td>\n",
       "      <td>1636780</td>\n",
       "      <td>71172.0</td>\n",
       "      <td>Gintama: The Movie (2010)</td>\n",
       "      <td>Action|Animation|Comedy|Sci-Fi</td>\n",
       "      <td>184</td>\n",
       "      <td>3.5</td>\n",
       "      <td>1537098554</td>\n",
       "      <td>184</td>\n",
       "      <td>comedy</td>\n",
       "      <td>1537098587</td>\n",
       "    </tr>\n",
       "    <tr>\n",
       "      <th>233211</th>\n",
       "      <td>193565</td>\n",
       "      <td>1636780</td>\n",
       "      <td>71172.0</td>\n",
       "      <td>Gintama: The Movie (2010)</td>\n",
       "      <td>Action|Animation|Comedy|Sci-Fi</td>\n",
       "      <td>184</td>\n",
       "      <td>3.5</td>\n",
       "      <td>1537098554</td>\n",
       "      <td>184</td>\n",
       "      <td>gintama</td>\n",
       "      <td>1537098603</td>\n",
       "    </tr>\n",
       "    <tr>\n",
       "      <th>233212</th>\n",
       "      <td>193565</td>\n",
       "      <td>1636780</td>\n",
       "      <td>71172.0</td>\n",
       "      <td>Gintama: The Movie (2010)</td>\n",
       "      <td>Action|Animation|Comedy|Sci-Fi</td>\n",
       "      <td>184</td>\n",
       "      <td>3.5</td>\n",
       "      <td>1537098554</td>\n",
       "      <td>184</td>\n",
       "      <td>remaster</td>\n",
       "      <td>1537098592</td>\n",
       "    </tr>\n",
       "  </tbody>\n",
       "</table>\n",
       "<p>233213 rows × 11 columns</p>\n",
       "</div>"
      ],
      "text/plain": [
       "        movieId   imdbId    tmdbId                           title  \\\n",
       "0             1   114709     862.0                Toy Story (1995)   \n",
       "1             1   114709     862.0                Toy Story (1995)   \n",
       "2             1   114709     862.0                Toy Story (1995)   \n",
       "3             1   114709     862.0                Toy Story (1995)   \n",
       "4             1   114709     862.0                Toy Story (1995)   \n",
       "...         ...      ...       ...                             ...   \n",
       "233208   187595  3778644  348350.0  Solo: A Star Wars Story (2018)   \n",
       "233209   193565  1636780   71172.0       Gintama: The Movie (2010)   \n",
       "233210   193565  1636780   71172.0       Gintama: The Movie (2010)   \n",
       "233211   193565  1636780   71172.0       Gintama: The Movie (2010)   \n",
       "233212   193565  1636780   71172.0       Gintama: The Movie (2010)   \n",
       "\n",
       "                                             genres  userId_x  rating  \\\n",
       "0       Adventure|Animation|Children|Comedy|Fantasy         1     4.0   \n",
       "1       Adventure|Animation|Children|Comedy|Fantasy         1     4.0   \n",
       "2       Adventure|Animation|Children|Comedy|Fantasy         1     4.0   \n",
       "3       Adventure|Animation|Children|Comedy|Fantasy         5     4.0   \n",
       "4       Adventure|Animation|Children|Comedy|Fantasy         5     4.0   \n",
       "...                                             ...       ...     ...   \n",
       "233208             Action|Adventure|Children|Sci-Fi       586     5.0   \n",
       "233209               Action|Animation|Comedy|Sci-Fi       184     3.5   \n",
       "233210               Action|Animation|Comedy|Sci-Fi       184     3.5   \n",
       "233211               Action|Animation|Comedy|Sci-Fi       184     3.5   \n",
       "233212               Action|Animation|Comedy|Sci-Fi       184     3.5   \n",
       "\n",
       "        timestamp_x  userId_y        tag  timestamp_y  \n",
       "0         964982703       336      pixar   1139045764  \n",
       "1         964982703       474      pixar   1137206825  \n",
       "2         964982703       567        fun   1525286013  \n",
       "3         847434962       336      pixar   1139045764  \n",
       "4         847434962       474      pixar   1137206825  \n",
       "...             ...       ...        ...          ...  \n",
       "233208   1529899556        62  star wars   1528934552  \n",
       "233209   1537098554       184      anime   1537098582  \n",
       "233210   1537098554       184     comedy   1537098587  \n",
       "233211   1537098554       184    gintama   1537098603  \n",
       "233212   1537098554       184   remaster   1537098592  \n",
       "\n",
       "[233213 rows x 11 columns]"
      ]
     },
     "execution_count": 26,
     "metadata": {},
     "output_type": "execute_result"
    }
   ],
   "source": [
    "# display the merged dataframe\n",
    "links_movies_ratings_tags"
   ]
  },
  {
   "cell_type": "markdown",
   "metadata": {},
   "source": [
    "The columns are renamed and the required columns are seperated from the merged DataFrame"
   ]
  },
  {
   "cell_type": "code",
   "execution_count": 27,
   "metadata": {},
   "outputs": [
    {
     "data": {
      "text/html": [
       "<div>\n",
       "<style scoped>\n",
       "    .dataframe tbody tr th:only-of-type {\n",
       "        vertical-align: middle;\n",
       "    }\n",
       "\n",
       "    .dataframe tbody tr th {\n",
       "        vertical-align: top;\n",
       "    }\n",
       "\n",
       "    .dataframe thead th {\n",
       "        text-align: right;\n",
       "    }\n",
       "</style>\n",
       "<table border=\"1\" class=\"dataframe\">\n",
       "  <thead>\n",
       "    <tr style=\"text-align: right;\">\n",
       "      <th></th>\n",
       "      <th>tmdbId</th>\n",
       "      <th>title</th>\n",
       "      <th>genres</th>\n",
       "      <th>userId_y</th>\n",
       "      <th>tag</th>\n",
       "      <th>timestamp_y</th>\n",
       "    </tr>\n",
       "  </thead>\n",
       "  <tbody>\n",
       "    <tr>\n",
       "      <th>0</th>\n",
       "      <td>862.0</td>\n",
       "      <td>Toy Story (1995)</td>\n",
       "      <td>Adventure|Animation|Children|Comedy|Fantasy</td>\n",
       "      <td>336</td>\n",
       "      <td>pixar</td>\n",
       "      <td>1139045764</td>\n",
       "    </tr>\n",
       "    <tr>\n",
       "      <th>1</th>\n",
       "      <td>862.0</td>\n",
       "      <td>Toy Story (1995)</td>\n",
       "      <td>Adventure|Animation|Children|Comedy|Fantasy</td>\n",
       "      <td>474</td>\n",
       "      <td>pixar</td>\n",
       "      <td>1137206825</td>\n",
       "    </tr>\n",
       "    <tr>\n",
       "      <th>2</th>\n",
       "      <td>862.0</td>\n",
       "      <td>Toy Story (1995)</td>\n",
       "      <td>Adventure|Animation|Children|Comedy|Fantasy</td>\n",
       "      <td>567</td>\n",
       "      <td>fun</td>\n",
       "      <td>1525286013</td>\n",
       "    </tr>\n",
       "    <tr>\n",
       "      <th>3</th>\n",
       "      <td>862.0</td>\n",
       "      <td>Toy Story (1995)</td>\n",
       "      <td>Adventure|Animation|Children|Comedy|Fantasy</td>\n",
       "      <td>336</td>\n",
       "      <td>pixar</td>\n",
       "      <td>1139045764</td>\n",
       "    </tr>\n",
       "    <tr>\n",
       "      <th>4</th>\n",
       "      <td>862.0</td>\n",
       "      <td>Toy Story (1995)</td>\n",
       "      <td>Adventure|Animation|Children|Comedy|Fantasy</td>\n",
       "      <td>474</td>\n",
       "      <td>pixar</td>\n",
       "      <td>1137206825</td>\n",
       "    </tr>\n",
       "    <tr>\n",
       "      <th>...</th>\n",
       "      <td>...</td>\n",
       "      <td>...</td>\n",
       "      <td>...</td>\n",
       "      <td>...</td>\n",
       "      <td>...</td>\n",
       "      <td>...</td>\n",
       "    </tr>\n",
       "    <tr>\n",
       "      <th>233208</th>\n",
       "      <td>348350.0</td>\n",
       "      <td>Solo: A Star Wars Story (2018)</td>\n",
       "      <td>Action|Adventure|Children|Sci-Fi</td>\n",
       "      <td>62</td>\n",
       "      <td>star wars</td>\n",
       "      <td>1528934552</td>\n",
       "    </tr>\n",
       "    <tr>\n",
       "      <th>233209</th>\n",
       "      <td>71172.0</td>\n",
       "      <td>Gintama: The Movie (2010)</td>\n",
       "      <td>Action|Animation|Comedy|Sci-Fi</td>\n",
       "      <td>184</td>\n",
       "      <td>anime</td>\n",
       "      <td>1537098582</td>\n",
       "    </tr>\n",
       "    <tr>\n",
       "      <th>233210</th>\n",
       "      <td>71172.0</td>\n",
       "      <td>Gintama: The Movie (2010)</td>\n",
       "      <td>Action|Animation|Comedy|Sci-Fi</td>\n",
       "      <td>184</td>\n",
       "      <td>comedy</td>\n",
       "      <td>1537098587</td>\n",
       "    </tr>\n",
       "    <tr>\n",
       "      <th>233211</th>\n",
       "      <td>71172.0</td>\n",
       "      <td>Gintama: The Movie (2010)</td>\n",
       "      <td>Action|Animation|Comedy|Sci-Fi</td>\n",
       "      <td>184</td>\n",
       "      <td>gintama</td>\n",
       "      <td>1537098603</td>\n",
       "    </tr>\n",
       "    <tr>\n",
       "      <th>233212</th>\n",
       "      <td>71172.0</td>\n",
       "      <td>Gintama: The Movie (2010)</td>\n",
       "      <td>Action|Animation|Comedy|Sci-Fi</td>\n",
       "      <td>184</td>\n",
       "      <td>remaster</td>\n",
       "      <td>1537098592</td>\n",
       "    </tr>\n",
       "  </tbody>\n",
       "</table>\n",
       "<p>233213 rows × 6 columns</p>\n",
       "</div>"
      ],
      "text/plain": [
       "          tmdbId                           title  \\\n",
       "0          862.0                Toy Story (1995)   \n",
       "1          862.0                Toy Story (1995)   \n",
       "2          862.0                Toy Story (1995)   \n",
       "3          862.0                Toy Story (1995)   \n",
       "4          862.0                Toy Story (1995)   \n",
       "...          ...                             ...   \n",
       "233208  348350.0  Solo: A Star Wars Story (2018)   \n",
       "233209   71172.0       Gintama: The Movie (2010)   \n",
       "233210   71172.0       Gintama: The Movie (2010)   \n",
       "233211   71172.0       Gintama: The Movie (2010)   \n",
       "233212   71172.0       Gintama: The Movie (2010)   \n",
       "\n",
       "                                             genres  userId_y        tag  \\\n",
       "0       Adventure|Animation|Children|Comedy|Fantasy       336      pixar   \n",
       "1       Adventure|Animation|Children|Comedy|Fantasy       474      pixar   \n",
       "2       Adventure|Animation|Children|Comedy|Fantasy       567        fun   \n",
       "3       Adventure|Animation|Children|Comedy|Fantasy       336      pixar   \n",
       "4       Adventure|Animation|Children|Comedy|Fantasy       474      pixar   \n",
       "...                                             ...       ...        ...   \n",
       "233208             Action|Adventure|Children|Sci-Fi        62  star wars   \n",
       "233209               Action|Animation|Comedy|Sci-Fi       184      anime   \n",
       "233210               Action|Animation|Comedy|Sci-Fi       184     comedy   \n",
       "233211               Action|Animation|Comedy|Sci-Fi       184    gintama   \n",
       "233212               Action|Animation|Comedy|Sci-Fi       184   remaster   \n",
       "\n",
       "        timestamp_y  \n",
       "0        1139045764  \n",
       "1        1137206825  \n",
       "2        1525286013  \n",
       "3        1139045764  \n",
       "4        1137206825  \n",
       "...             ...  \n",
       "233208   1528934552  \n",
       "233209   1537098582  \n",
       "233210   1537098587  \n",
       "233211   1537098603  \n",
       "233212   1537098592  \n",
       "\n",
       "[233213 rows x 6 columns]"
      ]
     },
     "execution_count": 27,
     "metadata": {},
     "output_type": "execute_result"
    }
   ],
   "source": [
    "df1 = pd.DataFrame(data = links_movies_ratings_tags)\n",
    "# rename columns\n",
    "df1.rename(columns = {\"userId_x\":\"user_id\", \"movieId\":\"item_id\", \"timestamp_x\":\"timestamp\"}, inplace = True)\n",
    "# create a new table with required features\n",
    "df2 = df1[[\"user_id\", \"item_id\", \"rating\", \"timestamp\", \"imdbId\"]]\n",
    "# drop migrated features from old data\n",
    "df1.drop([\"user_id\", \"item_id\", \"rating\", \"timestamp\", \"imdbId\"], axis=1, inplace=True)\n",
    "# print the dataframe of features not being used\n",
    "df1"
   ]
  },
  {
   "cell_type": "markdown",
   "metadata": {},
   "source": [
    "## Section 2\n",
    "In this question the DataFrame is cleanded and exported in csv format."
   ]
  },
  {
   "cell_type": "code",
   "execution_count": 28,
   "metadata": {},
   "outputs": [
    {
     "data": {
      "text/plain": [
       "user_id      0\n",
       "item_id      0\n",
       "rating       0\n",
       "timestamp    0\n",
       "imdbId       0\n",
       "dtype: int64"
      ]
     },
     "execution_count": 28,
     "metadata": {},
     "output_type": "execute_result"
    }
   ],
   "source": [
    "# check for null values in columns\n",
    "df2.isnull().sum()"
   ]
  },
  {
   "cell_type": "code",
   "execution_count": 29,
   "metadata": {},
   "outputs": [],
   "source": [
    "# drop all rows with a rating value less than 3 stars\n",
    "df2 = df2.drop(index=df2[df2[\"rating\"]<3].index)"
   ]
  },
  {
   "cell_type": "code",
   "execution_count": 30,
   "metadata": {},
   "outputs": [
    {
     "name": "stdout",
     "output_type": "stream",
     "text": [
      "[]\n"
     ]
    }
   ],
   "source": [
    "# check there are no ratings below 3 stars\n",
    "starList = []\n",
    "for line in df2[\"rating\"]:\n",
    "    if line < 3:\n",
    "        starList.append(line)\n",
    "print(starList)"
   ]
  },
  {
   "cell_type": "markdown",
   "metadata": {},
   "source": [
    "Display the cleanded DataFrame"
   ]
  },
  {
   "cell_type": "code",
   "execution_count": 31,
   "metadata": {},
   "outputs": [
    {
     "data": {
      "text/html": [
       "<div>\n",
       "<style scoped>\n",
       "    .dataframe tbody tr th:only-of-type {\n",
       "        vertical-align: middle;\n",
       "    }\n",
       "\n",
       "    .dataframe tbody tr th {\n",
       "        vertical-align: top;\n",
       "    }\n",
       "\n",
       "    .dataframe thead th {\n",
       "        text-align: right;\n",
       "    }\n",
       "</style>\n",
       "<table border=\"1\" class=\"dataframe\">\n",
       "  <thead>\n",
       "    <tr style=\"text-align: right;\">\n",
       "      <th></th>\n",
       "      <th>user_id</th>\n",
       "      <th>item_id</th>\n",
       "      <th>rating</th>\n",
       "      <th>timestamp</th>\n",
       "      <th>imdbId</th>\n",
       "    </tr>\n",
       "  </thead>\n",
       "  <tbody>\n",
       "    <tr>\n",
       "      <th>0</th>\n",
       "      <td>1</td>\n",
       "      <td>1</td>\n",
       "      <td>4.0</td>\n",
       "      <td>964982703</td>\n",
       "      <td>114709</td>\n",
       "    </tr>\n",
       "    <tr>\n",
       "      <th>1</th>\n",
       "      <td>1</td>\n",
       "      <td>1</td>\n",
       "      <td>4.0</td>\n",
       "      <td>964982703</td>\n",
       "      <td>114709</td>\n",
       "    </tr>\n",
       "    <tr>\n",
       "      <th>2</th>\n",
       "      <td>1</td>\n",
       "      <td>1</td>\n",
       "      <td>4.0</td>\n",
       "      <td>964982703</td>\n",
       "      <td>114709</td>\n",
       "    </tr>\n",
       "    <tr>\n",
       "      <th>3</th>\n",
       "      <td>5</td>\n",
       "      <td>1</td>\n",
       "      <td>4.0</td>\n",
       "      <td>847434962</td>\n",
       "      <td>114709</td>\n",
       "    </tr>\n",
       "    <tr>\n",
       "      <th>4</th>\n",
       "      <td>5</td>\n",
       "      <td>1</td>\n",
       "      <td>4.0</td>\n",
       "      <td>847434962</td>\n",
       "      <td>114709</td>\n",
       "    </tr>\n",
       "    <tr>\n",
       "      <th>...</th>\n",
       "      <td>...</td>\n",
       "      <td>...</td>\n",
       "      <td>...</td>\n",
       "      <td>...</td>\n",
       "      <td>...</td>\n",
       "    </tr>\n",
       "    <tr>\n",
       "      <th>233208</th>\n",
       "      <td>586</td>\n",
       "      <td>187595</td>\n",
       "      <td>5.0</td>\n",
       "      <td>1529899556</td>\n",
       "      <td>3778644</td>\n",
       "    </tr>\n",
       "    <tr>\n",
       "      <th>233209</th>\n",
       "      <td>184</td>\n",
       "      <td>193565</td>\n",
       "      <td>3.5</td>\n",
       "      <td>1537098554</td>\n",
       "      <td>1636780</td>\n",
       "    </tr>\n",
       "    <tr>\n",
       "      <th>233210</th>\n",
       "      <td>184</td>\n",
       "      <td>193565</td>\n",
       "      <td>3.5</td>\n",
       "      <td>1537098554</td>\n",
       "      <td>1636780</td>\n",
       "    </tr>\n",
       "    <tr>\n",
       "      <th>233211</th>\n",
       "      <td>184</td>\n",
       "      <td>193565</td>\n",
       "      <td>3.5</td>\n",
       "      <td>1537098554</td>\n",
       "      <td>1636780</td>\n",
       "    </tr>\n",
       "    <tr>\n",
       "      <th>233212</th>\n",
       "      <td>184</td>\n",
       "      <td>193565</td>\n",
       "      <td>3.5</td>\n",
       "      <td>1537098554</td>\n",
       "      <td>1636780</td>\n",
       "    </tr>\n",
       "  </tbody>\n",
       "</table>\n",
       "<p>211573 rows × 5 columns</p>\n",
       "</div>"
      ],
      "text/plain": [
       "        user_id  item_id  rating   timestamp   imdbId\n",
       "0             1        1     4.0   964982703   114709\n",
       "1             1        1     4.0   964982703   114709\n",
       "2             1        1     4.0   964982703   114709\n",
       "3             5        1     4.0   847434962   114709\n",
       "4             5        1     4.0   847434962   114709\n",
       "...         ...      ...     ...         ...      ...\n",
       "233208      586   187595     5.0  1529899556  3778644\n",
       "233209      184   193565     3.5  1537098554  1636780\n",
       "233210      184   193565     3.5  1537098554  1636780\n",
       "233211      184   193565     3.5  1537098554  1636780\n",
       "233212      184   193565     3.5  1537098554  1636780\n",
       "\n",
       "[211573 rows x 5 columns]"
      ]
     },
     "execution_count": 31,
     "metadata": {},
     "output_type": "execute_result"
    }
   ],
   "source": [
    "# the dataframe that is to be used for model training\n",
    "df2"
   ]
  },
  {
   "cell_type": "markdown",
   "metadata": {},
   "source": [
    "A correlation matrix is used below to show the correlation value between the features."
   ]
  },
  {
   "cell_type": "code",
   "execution_count": 32,
   "metadata": {},
   "outputs": [
    {
     "data": {
      "text/plain": [
       "<matplotlib.axes._subplots.AxesSubplot at 0x140ec3e7ac0>"
      ]
     },
     "execution_count": 32,
     "metadata": {},
     "output_type": "execute_result"
    },
    {
     "data": {
      "image/png": "[encoded data removed]",
      "text/plain": [
       "<Figure size 432x288 with 2 Axes>"
      ]
     },
     "metadata": {
      "needs_background": "light"
     },
     "output_type": "display_data"
    }
   ],
   "source": [
    "# create correlation matrix\n",
    "corr = df2.corr()\n",
    "sns.heatmap(corr, annot=True)"
   ]
  },
  {
   "cell_type": "markdown",
   "metadata": {},
   "source": [
    "A distplot function is used below to show the univariate distribution of observations in the item_id data."
   ]
  },
  {
   "cell_type": "code",
   "execution_count": 33,
   "metadata": {},
   "outputs": [],
   "source": [
    "# seperate the target feature from the data for analysis\n",
    "target = df2.item_id\n",
    "# rows 0 to 10 000 are used because these are included in model training later on\n",
    "target = target.loc[0:10000]"
   ]
  },
  {
   "cell_type": "code",
   "execution_count": 34,
   "metadata": {},
   "outputs": [
    {
     "name": "stdout",
     "output_type": "stream",
     "text": [
      "Skewness: 0.4631500131470778\n",
      "Kurtosis: -1.1508986601273226\n"
     ]
    },
    {
     "data": {
      "image/png": "[encoded data removed]",
      "text/plain": [
       "<Figure size 432x288 with 1 Axes>"
      ]
     },
     "metadata": {
      "needs_background": "light"
     },
     "output_type": "display_data"
    }
   ],
   "source": [
    "# create distribution plot\n",
    "sns.distplot(target)\n",
    "print(\"Skewness:\", target.skew())\n",
    "print(\"Kurtosis:\", target.kurtosis())"
   ]
  },
  {
   "cell_type": "markdown",
   "metadata": {},
   "source": [
    "It can be observed that the target data is positively skewed. The curtosis value is negative indicating that most of the data points are situated close to the mean."
   ]
  },
  {
   "cell_type": "markdown",
   "metadata": {},
   "source": [
    "#### Export the DataFrame in csv format"
   ]
  },
  {
   "cell_type": "code",
   "execution_count": 35,
   "metadata": {},
   "outputs": [],
   "source": [
    "# export the data without index values\n",
    "df2.to_csv(\"C:\\\\Users\\\\heyle\\\\Downloads\\\\MLPQ1.csv\", index=False)"
   ]
  }
 ],
 "metadata": {
  "kernelspec": {
   "display_name": "Python 3",
   "language": "python",
   "name": "python3"
  },
  "language_info": {
   "codemirror_mode": {
    "name": "ipython",
    "version": 3
   },
   "file_extension": ".py",
   "mimetype": "text/x-python",
   "name": "python",
   "nbconvert_exporter": "python",
   "pygments_lexer": "ipython3",
   "version": "3.8.3"
  }
 },
 "nbformat": 4,
 "nbformat_minor": 4
}
