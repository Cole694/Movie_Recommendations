{
 "cells": [
  {
   "cell_type": "markdown",
   "metadata": {},
   "source": [
    "# Movie recommendations\n",
    "In this project the previously merged and cleaned dataframe is read and processed for use in training the ML algorithm"
   ]
  },
  {
   "cell_type": "code",
   "execution_count": 1,
   "metadata": {},
   "outputs": [],
   "source": [
    "# load libraries for preporcossing\n",
    "import pandas as pd\n",
    "import numpy as np\n",
    "import seaborn as sns"
   ]
  },
  {
   "cell_type": "code",
   "execution_count": 8,
   "metadata": {},
   "outputs": [],
   "source": [
    "# read the previously created dataframe of movie features\n",
    "movies = pd.read_csv(\"C:\\\\Users\\\\heyle\\\\Downloads\\\\MLPQ1.csv\")"
   ]
  },
  {
   "cell_type": "code",
   "execution_count": 9,
   "metadata": {},
   "outputs": [
    {
     "data": {
      "text/html": [
       "<div>\n",
       "<style scoped>\n",
       "    .dataframe tbody tr th:only-of-type {\n",
       "        vertical-align: middle;\n",
       "    }\n",
       "\n",
       "    .dataframe tbody tr th {\n",
       "        vertical-align: top;\n",
       "    }\n",
       "\n",
       "    .dataframe thead th {\n",
       "        text-align: right;\n",
       "    }\n",
       "</style>\n",
       "<table border=\"1\" class=\"dataframe\">\n",
       "  <thead>\n",
       "    <tr style=\"text-align: right;\">\n",
       "      <th></th>\n",
       "      <th>user_id</th>\n",
       "      <th>item_id</th>\n",
       "      <th>rating</th>\n",
       "      <th>timestamp</th>\n",
       "      <th>imdbId</th>\n",
       "    </tr>\n",
       "  </thead>\n",
       "  <tbody>\n",
       "    <tr>\n",
       "      <th>0</th>\n",
       "      <td>1</td>\n",
       "      <td>1</td>\n",
       "      <td>4.0</td>\n",
       "      <td>964982703</td>\n",
       "      <td>114709</td>\n",
       "    </tr>\n",
       "    <tr>\n",
       "      <th>1</th>\n",
       "      <td>1</td>\n",
       "      <td>1</td>\n",
       "      <td>4.0</td>\n",
       "      <td>964982703</td>\n",
       "      <td>114709</td>\n",
       "    </tr>\n",
       "    <tr>\n",
       "      <th>2</th>\n",
       "      <td>1</td>\n",
       "      <td>1</td>\n",
       "      <td>4.0</td>\n",
       "      <td>964982703</td>\n",
       "      <td>114709</td>\n",
       "    </tr>\n",
       "    <tr>\n",
       "      <th>3</th>\n",
       "      <td>5</td>\n",
       "      <td>1</td>\n",
       "      <td>4.0</td>\n",
       "      <td>847434962</td>\n",
       "      <td>114709</td>\n",
       "    </tr>\n",
       "    <tr>\n",
       "      <th>4</th>\n",
       "      <td>5</td>\n",
       "      <td>1</td>\n",
       "      <td>4.0</td>\n",
       "      <td>847434962</td>\n",
       "      <td>114709</td>\n",
       "    </tr>\n",
       "    <tr>\n",
       "      <th>...</th>\n",
       "      <td>...</td>\n",
       "      <td>...</td>\n",
       "      <td>...</td>\n",
       "      <td>...</td>\n",
       "      <td>...</td>\n",
       "    </tr>\n",
       "    <tr>\n",
       "      <th>211568</th>\n",
       "      <td>586</td>\n",
       "      <td>187595</td>\n",
       "      <td>5.0</td>\n",
       "      <td>1529899556</td>\n",
       "      <td>3778644</td>\n",
       "    </tr>\n",
       "    <tr>\n",
       "      <th>211569</th>\n",
       "      <td>184</td>\n",
       "      <td>193565</td>\n",
       "      <td>3.5</td>\n",
       "      <td>1537098554</td>\n",
       "      <td>1636780</td>\n",
       "    </tr>\n",
       "    <tr>\n",
       "      <th>211570</th>\n",
       "      <td>184</td>\n",
       "      <td>193565</td>\n",
       "      <td>3.5</td>\n",
       "      <td>1537098554</td>\n",
       "      <td>1636780</td>\n",
       "    </tr>\n",
       "    <tr>\n",
       "      <th>211571</th>\n",
       "      <td>184</td>\n",
       "      <td>193565</td>\n",
       "      <td>3.5</td>\n",
       "      <td>1537098554</td>\n",
       "      <td>1636780</td>\n",
       "    </tr>\n",
       "    <tr>\n",
       "      <th>211572</th>\n",
       "      <td>184</td>\n",
       "      <td>193565</td>\n",
       "      <td>3.5</td>\n",
       "      <td>1537098554</td>\n",
       "      <td>1636780</td>\n",
       "    </tr>\n",
       "  </tbody>\n",
       "</table>\n",
       "<p>211573 rows × 5 columns</p>\n",
       "</div>"
      ],
      "text/plain": [
       "        user_id  item_id  rating   timestamp   imdbId\n",
       "0             1        1     4.0   964982703   114709\n",
       "1             1        1     4.0   964982703   114709\n",
       "2             1        1     4.0   964982703   114709\n",
       "3             5        1     4.0   847434962   114709\n",
       "4             5        1     4.0   847434962   114709\n",
       "...         ...      ...     ...         ...      ...\n",
       "211568      586   187595     5.0  1529899556  3778644\n",
       "211569      184   193565     3.5  1537098554  1636780\n",
       "211570      184   193565     3.5  1537098554  1636780\n",
       "211571      184   193565     3.5  1537098554  1636780\n",
       "211572      184   193565     3.5  1537098554  1636780\n",
       "\n",
       "[211573 rows x 5 columns]"
      ]
     },
     "execution_count": 9,
     "metadata": {},
     "output_type": "execute_result"
    }
   ],
   "source": [
    "# display the dataframe that is to be used\n",
    "movies"
   ]
  },
  {
   "cell_type": "markdown",
   "metadata": {},
   "source": [
    "The data has to be split into the features matrix and the target vector. This will allow us to work with the data and preprocess it with respect to how it is to be used in the training of the algorithm."
   ]
  },
  {
   "cell_type": "markdown",
   "metadata": {},
   "source": [
    "Note that the target vector and feature matrix consists of 10 001 rows each. This is to overcome system performance failure when fitting the data to the algorithm and performing processing on the data.  "
   ]
  },
  {
   "cell_type": "code",
   "execution_count": 10,
   "metadata": {},
   "outputs": [
    {
     "data": {
      "text/plain": [
       "0          1\n",
       "1          1\n",
       "2          1\n",
       "3          1\n",
       "4          1\n",
       "        ... \n",
       "9996     161\n",
       "9997     161\n",
       "9998     161\n",
       "9999     161\n",
       "10000    161\n",
       "Name: item_id, Length: 10001, dtype: int64"
      ]
     },
     "execution_count": 10,
     "metadata": {},
     "output_type": "execute_result"
    }
   ],
   "source": [
    "# create target vector\n",
    "target = movies[\"item_id\"]\n",
    "target = target.loc[0:10000]\n",
    "target"
   ]
  },
  {
   "cell_type": "code",
   "execution_count": 11,
   "metadata": {},
   "outputs": [
    {
     "data": {
      "text/html": [
       "<div>\n",
       "<style scoped>\n",
       "    .dataframe tbody tr th:only-of-type {\n",
       "        vertical-align: middle;\n",
       "    }\n",
       "\n",
       "    .dataframe tbody tr th {\n",
       "        vertical-align: top;\n",
       "    }\n",
       "\n",
       "    .dataframe thead th {\n",
       "        text-align: right;\n",
       "    }\n",
       "</style>\n",
       "<table border=\"1\" class=\"dataframe\">\n",
       "  <thead>\n",
       "    <tr style=\"text-align: right;\">\n",
       "      <th></th>\n",
       "      <th>user_id</th>\n",
       "      <th>rating</th>\n",
       "      <th>timestamp</th>\n",
       "      <th>imdbId</th>\n",
       "    </tr>\n",
       "  </thead>\n",
       "  <tbody>\n",
       "    <tr>\n",
       "      <th>0</th>\n",
       "      <td>1</td>\n",
       "      <td>4.0</td>\n",
       "      <td>964982703</td>\n",
       "      <td>114709</td>\n",
       "    </tr>\n",
       "    <tr>\n",
       "      <th>1</th>\n",
       "      <td>1</td>\n",
       "      <td>4.0</td>\n",
       "      <td>964982703</td>\n",
       "      <td>114709</td>\n",
       "    </tr>\n",
       "    <tr>\n",
       "      <th>2</th>\n",
       "      <td>1</td>\n",
       "      <td>4.0</td>\n",
       "      <td>964982703</td>\n",
       "      <td>114709</td>\n",
       "    </tr>\n",
       "    <tr>\n",
       "      <th>3</th>\n",
       "      <td>5</td>\n",
       "      <td>4.0</td>\n",
       "      <td>847434962</td>\n",
       "      <td>114709</td>\n",
       "    </tr>\n",
       "    <tr>\n",
       "      <th>4</th>\n",
       "      <td>5</td>\n",
       "      <td>4.0</td>\n",
       "      <td>847434962</td>\n",
       "      <td>114709</td>\n",
       "    </tr>\n",
       "    <tr>\n",
       "      <th>...</th>\n",
       "      <td>...</td>\n",
       "      <td>...</td>\n",
       "      <td>...</td>\n",
       "      <td>...</td>\n",
       "    </tr>\n",
       "    <tr>\n",
       "      <th>9996</th>\n",
       "      <td>372</td>\n",
       "      <td>4.0</td>\n",
       "      <td>874415062</td>\n",
       "      <td>112740</td>\n",
       "    </tr>\n",
       "    <tr>\n",
       "      <th>9997</th>\n",
       "      <td>374</td>\n",
       "      <td>4.0</td>\n",
       "      <td>849089153</td>\n",
       "      <td>112740</td>\n",
       "    </tr>\n",
       "    <tr>\n",
       "      <th>9998</th>\n",
       "      <td>376</td>\n",
       "      <td>5.0</td>\n",
       "      <td>1364993850</td>\n",
       "      <td>112740</td>\n",
       "    </tr>\n",
       "    <tr>\n",
       "      <th>9999</th>\n",
       "      <td>379</td>\n",
       "      <td>4.0</td>\n",
       "      <td>847397381</td>\n",
       "      <td>112740</td>\n",
       "    </tr>\n",
       "    <tr>\n",
       "      <th>10000</th>\n",
       "      <td>386</td>\n",
       "      <td>3.0</td>\n",
       "      <td>842610246</td>\n",
       "      <td>112740</td>\n",
       "    </tr>\n",
       "  </tbody>\n",
       "</table>\n",
       "<p>10001 rows × 4 columns</p>\n",
       "</div>"
      ],
      "text/plain": [
       "       user_id  rating   timestamp  imdbId\n",
       "0            1     4.0   964982703  114709\n",
       "1            1     4.0   964982703  114709\n",
       "2            1     4.0   964982703  114709\n",
       "3            5     4.0   847434962  114709\n",
       "4            5     4.0   847434962  114709\n",
       "...        ...     ...         ...     ...\n",
       "9996       372     4.0   874415062  112740\n",
       "9997       374     4.0   849089153  112740\n",
       "9998       376     5.0  1364993850  112740\n",
       "9999       379     4.0   847397381  112740\n",
       "10000      386     3.0   842610246  112740\n",
       "\n",
       "[10001 rows x 4 columns]"
      ]
     },
     "execution_count": 11,
     "metadata": {},
     "output_type": "execute_result"
    }
   ],
   "source": [
    "# create features matrix\n",
    "movies.drop(\"item_id\", axis=1, inplace=True)\n",
    "features = movies.loc[0:10000]\n",
    "features"
   ]
  },
  {
   "cell_type": "markdown",
   "metadata": {},
   "source": [
    "A correlation matrix is used below to show the correlation value between the features. "
   ]
  },
  {
   "cell_type": "code",
   "execution_count": 13,
   "metadata": {},
   "outputs": [
    {
     "data": {
      "text/plain": [
       "<matplotlib.axes._subplots.AxesSubplot at 0x260f94bcaf0>"
      ]
     },
     "execution_count": 13,
     "metadata": {},
     "output_type": "execute_result"
    },
    {
     "data": {
      "image/png": "[encoded data removed]",
      "text/plain": [
       "<Figure size 432x288 with 2 Axes>"
      ]
     },
     "metadata": {
      "needs_background": "light"
     },
     "output_type": "display_data"
    }
   ],
   "source": [
    "# create correlation matrix\n",
    "corr = features.corr()\n",
    "sns.heatmap(corr, annot=True)"
   ]
  },
  {
   "cell_type": "markdown",
   "metadata": {},
   "source": [
    "A distplot function is used below to show the univariate distribution of observations included in the plotting of the data."
   ]
  },
  {
   "cell_type": "code",
   "execution_count": 14,
   "metadata": {},
   "outputs": [
    {
     "name": "stdout",
     "output_type": "stream",
     "text": [
      "Skewness: 0.5342494134239462\n",
      "Kurtosis: -0.956990472031277\n"
     ]
    },
    {
     "data": {
      "image/png": "[encoded data removed]",
      "text/plain": [
       "<Figure size 432x288 with 1 Axes>"
      ]
     },
     "metadata": {
      "needs_background": "light"
     },
     "output_type": "display_data"
    }
   ],
   "source": [
    "# create distribution plot\n",
    "sns.distplot(target)\n",
    "print(\"Skewness:\", target.skew())\n",
    "print(\"Kurtosis:\", target.kurtosis())"
   ]
  },
  {
   "cell_type": "markdown",
   "metadata": {},
   "source": [
    "It can be observed that the target data is positively skewed. The curtosis value is negative indicating that most of the data points are situated close to the mean."
   ]
  },
  {
   "cell_type": "markdown",
   "metadata": {},
   "source": [
    "### Model Selection\n",
    "In this section the best suited algorithm is selected and implemented. That model is then fit to the data and trained to make accurate predictions."
   ]
  },
  {
   "cell_type": "code",
   "execution_count": 15,
   "metadata": {},
   "outputs": [],
   "source": [
    "# import sklearn libraries\n",
    "from sklearn.ensemble import RandomForestRegressor\n",
    "from sklearn.ensemble import GradientBoostingRegressor\n",
    "from sklearn.linear_model import LinearRegression\n",
    "from sklearn.linear_model import LogisticRegression\n",
    "from sklearn.model_selection import train_test_split"
   ]
  },
  {
   "cell_type": "code",
   "execution_count": 18,
   "metadata": {},
   "outputs": [],
   "source": [
    "# assign features and target to x and y to be split\n",
    "x = features\n",
    "y = target"
   ]
  },
  {
   "cell_type": "code",
   "execution_count": 19,
   "metadata": {},
   "outputs": [],
   "source": [
    "# split the data into training and testing data\n",
    "x_train, x_test, y_train, y_test = train_test_split(x, y, test_size=0.2)"
   ]
  },
  {
   "cell_type": "code",
   "execution_count": 24,
   "metadata": {},
   "outputs": [
    {
     "data": {
      "text/html": [
       "<div>\n",
       "<style scoped>\n",
       "    .dataframe tbody tr th:only-of-type {\n",
       "        vertical-align: middle;\n",
       "    }\n",
       "\n",
       "    .dataframe tbody tr th {\n",
       "        vertical-align: top;\n",
       "    }\n",
       "\n",
       "    .dataframe thead th {\n",
       "        text-align: right;\n",
       "    }\n",
       "</style>\n",
       "<table border=\"1\" class=\"dataframe\">\n",
       "  <thead>\n",
       "    <tr style=\"text-align: right;\">\n",
       "      <th></th>\n",
       "      <th>0</th>\n",
       "      <th>1</th>\n",
       "      <th>2</th>\n",
       "      <th>3</th>\n",
       "      <th>4</th>\n",
       "      <th>5</th>\n",
       "    </tr>\n",
       "  </thead>\n",
       "  <tbody>\n",
       "    <tr>\n",
       "      <th>0</th>\n",
       "      <td>Model:</td>\n",
       "      <td>RandomForestRegressor</td>\n",
       "      <td>Train score:</td>\n",
       "      <td>0.999901</td>\n",
       "      <td>Test score:</td>\n",
       "      <td>0.999882</td>\n",
       "    </tr>\n",
       "    <tr>\n",
       "      <th>1</th>\n",
       "      <td>Model:</td>\n",
       "      <td>GradienTboostingRegressor</td>\n",
       "      <td>Train score:</td>\n",
       "      <td>0.992773</td>\n",
       "      <td>Test score:</td>\n",
       "      <td>0.990820</td>\n",
       "    </tr>\n",
       "    <tr>\n",
       "      <th>2</th>\n",
       "      <td>Model:</td>\n",
       "      <td>LinearRegression</td>\n",
       "      <td>Train score:</td>\n",
       "      <td>0.057243</td>\n",
       "      <td>Test score:</td>\n",
       "      <td>0.046431</td>\n",
       "    </tr>\n",
       "    <tr>\n",
       "      <th>3</th>\n",
       "      <td>Model:</td>\n",
       "      <td>LogisticRegression</td>\n",
       "      <td>Train score:</td>\n",
       "      <td>0.220375</td>\n",
       "      <td>Test score:</td>\n",
       "      <td>0.208396</td>\n",
       "    </tr>\n",
       "  </tbody>\n",
       "</table>\n",
       "</div>"
      ],
      "text/plain": [
       "        0                          1             2         3            4  \\\n",
       "0  Model:      RandomForestRegressor  Train score:  0.999901  Test score:   \n",
       "1  Model:  GradienTboostingRegressor  Train score:  0.992773  Test score:   \n",
       "2  Model:           LinearRegression  Train score:  0.057243  Test score:   \n",
       "3  Model:         LogisticRegression  Train score:  0.220375  Test score:   \n",
       "\n",
       "          5  \n",
       "0  0.999882  \n",
       "1  0.990820  \n",
       "2  0.046431  \n",
       "3  0.208396  "
      ]
     },
     "execution_count": 24,
     "metadata": {},
     "output_type": "execute_result"
    }
   ],
   "source": [
    "# create list of candidate algorithms\n",
    "# a list to keep track of each models score\n",
    "modelScores = []\n",
    "candidateList = [[\"RandomForestRegressor\", RandomForestRegressor()],\n",
    "                [\"GradienTboostingRegressor\", GradientBoostingRegressor()],\n",
    "                [\"LinearRegression\", LinearRegression()],\n",
    "                [\"LogisticRegression\", LogisticRegression()]]\n",
    "# use a for loop to iterate the list above and calculat eeach algorithms performance\n",
    "for mod in candidateList:\n",
    "    modelName = mod[0]\n",
    "    model = mod[1]\n",
    "    model.fit(x_train, y_train)\n",
    "    trainScore = model.score(x_train, y_train)\n",
    "    testScore = model.score(x_test, y_test)\n",
    "    # append the scores to the appropriate list\n",
    "    modelScores.append([\"Model:\", modelName, \"Train score:\", trainScore, \"Test score:\", testScore])\n",
    "    # the scores are placed into a dataframe for visualisation of the results\n",
    "scoreFrame = pd.DataFrame(data=modelScores)\n",
    "scoreFrame"
   ]
  },
  {
   "cell_type": "code",
   "execution_count": 25,
   "metadata": {},
   "outputs": [],
   "source": [
    "# implement best performing model for the case\n",
    "model = RandomForestRegressor()"
   ]
  },
  {
   "cell_type": "code",
   "execution_count": 27,
   "metadata": {},
   "outputs": [
    {
     "data": {
      "text/plain": [
       "RandomForestRegressor()"
      ]
     },
     "execution_count": 27,
     "metadata": {},
     "output_type": "execute_result"
    }
   ],
   "source": [
    "# fit the data to the model\n",
    "model.fit(x_train, y_train)"
   ]
  },
  {
   "cell_type": "code",
   "execution_count": 28,
   "metadata": {},
   "outputs": [
    {
     "name": "stdout",
     "output_type": "stream",
     "text": [
      "[ 11.  39.  41. ... 110.  32. 150.]\n",
      "1239     11\n",
      "4229     39\n",
      "4514     41\n",
      "5505     50\n",
      "590       1\n",
      "       ... \n",
      "3235     32\n",
      "3714     34\n",
      "7632    110\n",
      "2199     32\n",
      "9447    150\n",
      "Name: item_id, Length: 2001, dtype: int64\n",
      "0.9997292546599176\n"
     ]
    }
   ],
   "source": [
    "# the models prediction and score is printed and can be compared to the y_test data\n",
    "print(model.predict(x_test))\n",
    "print(y_test)\n",
    "print(model.score(x_test, y_test))"
   ]
  },
  {
   "cell_type": "markdown",
   "metadata": {},
   "source": [
    "### Model Pickleing\n",
    "This section consists of pickleing the above model for further use on predicting and recommending movies to viewers."
   ]
  },
  {
   "cell_type": "code",
   "execution_count": 29,
   "metadata": {},
   "outputs": [],
   "source": [
    "# load pickle library\n",
    "import pickle"
   ]
  },
  {
   "cell_type": "code",
   "execution_count": 30,
   "metadata": {},
   "outputs": [],
   "source": [
    "# dump the created model into a pickled file for later use\n",
    "with open(\"MLA\", \"wb\") as f:\n",
    "    pickle.dump(model, f)"
   ]
  },
  {
   "cell_type": "code",
   "execution_count": 31,
   "metadata": {},
   "outputs": [],
   "source": [
    "# load the dumped and pickled model for further use\n",
    "with open(\"MLA\", \"rb\") as m:\n",
    "    mp = pickle.load(m)"
   ]
  },
  {
   "cell_type": "markdown",
   "metadata": {},
   "source": [
    "### Predictions\n",
    "Here the pickled model is used to make predictions on data that has not been included in the training of the model. This mean that the data is completely new to the model but still has the same feature values as the data used to train the model."
   ]
  },
  {
   "cell_type": "code",
   "execution_count": 53,
   "metadata": {},
   "outputs": [
    {
     "data": {
      "text/html": [
       "<div>\n",
       "<style scoped>\n",
       "    .dataframe tbody tr th:only-of-type {\n",
       "        vertical-align: middle;\n",
       "    }\n",
       "\n",
       "    .dataframe tbody tr th {\n",
       "        vertical-align: top;\n",
       "    }\n",
       "\n",
       "    .dataframe thead th {\n",
       "        text-align: right;\n",
       "    }\n",
       "</style>\n",
       "<table border=\"1\" class=\"dataframe\">\n",
       "  <thead>\n",
       "    <tr style=\"text-align: right;\">\n",
       "      <th></th>\n",
       "      <th>user_id</th>\n",
       "      <th>rating</th>\n",
       "      <th>timestamp</th>\n",
       "      <th>imdbId</th>\n",
       "    </tr>\n",
       "  </thead>\n",
       "  <tbody>\n",
       "    <tr>\n",
       "      <th>11000</th>\n",
       "      <td>307.0</td>\n",
       "      <td>3.0</td>\n",
       "      <td>1.186162e+09</td>\n",
       "      <td>109642.0</td>\n",
       "    </tr>\n",
       "    <tr>\n",
       "      <th>12000</th>\n",
       "      <td>71.0</td>\n",
       "      <td>3.0</td>\n",
       "      <td>8.647380e+08</td>\n",
       "      <td>76759.0</td>\n",
       "    </tr>\n",
       "    <tr>\n",
       "      <th>101000</th>\n",
       "      <td>122.0</td>\n",
       "      <td>5.0</td>\n",
       "      <td>1.461562e+09</td>\n",
       "      <td>79470.0</td>\n",
       "    </tr>\n",
       "    <tr>\n",
       "      <th>133000</th>\n",
       "      <td>452.0</td>\n",
       "      <td>5.0</td>\n",
       "      <td>1.019585e+09</td>\n",
       "      <td>158983.0</td>\n",
       "    </tr>\n",
       "    <tr>\n",
       "      <th>141000</th>\n",
       "      <td>295.0</td>\n",
       "      <td>4.5</td>\n",
       "      <td>1.320065e+09</td>\n",
       "      <td>137523.0</td>\n",
       "    </tr>\n",
       "  </tbody>\n",
       "</table>\n",
       "</div>"
      ],
      "text/plain": [
       "        user_id  rating     timestamp    imdbId\n",
       "11000     307.0     3.0  1.186162e+09  109642.0\n",
       "12000      71.0     3.0  8.647380e+08   76759.0\n",
       "101000    122.0     5.0  1.461562e+09   79470.0\n",
       "133000    452.0     5.0  1.019585e+09  158983.0\n",
       "141000    295.0     4.5  1.320065e+09  137523.0"
      ]
     },
     "execution_count": 53,
     "metadata": {},
     "output_type": "execute_result"
    }
   ],
   "source": [
    "# use external data to predict\n",
    "# select random rows from externam data from the movies data\n",
    "predict_1 = movies.loc[11000]\n",
    "predict_2 = movies.loc[12000]\n",
    "predict_3 = movies.loc[101000]\n",
    "predict_4 = movies.loc[133000]\n",
    "predict_5 = movies.loc[141000]\n",
    "# populate a list with all rows used for the prediction\n",
    "predList = [predict_1, predict_2, predict_3, predict_4, predict_5]\n",
    "# populate a dataframe with the prediction rows for visualisation\n",
    "predFrame = pd.DataFrame(data=predList)\n",
    "predFrame"
   ]
  },
  {
   "cell_type": "code",
   "execution_count": 54,
   "metadata": {},
   "outputs": [
    {
     "data": {
      "text/plain": [
       "array([ 58., 111., 111., 140., 140.])"
      ]
     },
     "execution_count": 54,
     "metadata": {},
     "output_type": "execute_result"
    }
   ],
   "source": [
    "# make the prediction\n",
    "mp.predict(predFrame)"
   ]
  },
  {
   "cell_type": "code",
   "execution_count": 57,
   "metadata": {},
   "outputs": [
    {
     "data": {
      "text/plain": [
       "[array([ 58., 111., 111., 140., 140.])]"
      ]
     },
     "execution_count": 57,
     "metadata": {},
     "output_type": "execute_result"
    }
   ],
   "source": [
    "# place the predicted values into a list\n",
    "predList = [mp.predict(predFrame)]\n",
    "predList"
   ]
  },
  {
   "cell_type": "markdown",
   "metadata": {},
   "source": [
    "### Saving the predictions\n",
    "Here the predictions made on the external data is written to a text file and stoted."
   ]
  },
  {
   "cell_type": "code",
   "execution_count": 64,
   "metadata": {},
   "outputs": [],
   "source": [
    "# write the predictions to a text file\n",
    "with open(\"predictions\",\"w+\") as pr:\n",
    "    pr.write(str(predList))"
   ]
  },
  {
   "cell_type": "code",
   "execution_count": 65,
   "metadata": {},
   "outputs": [
    {
     "name": "stdout",
     "output_type": "stream",
     "text": [
      "[array([ 58., 111., 111., 140., 140.])]\n"
     ]
    }
   ],
   "source": [
    "# read the predictions file to enu=sure writing process was successful\n",
    "with open(\"predictions\", \"r\") as re:\n",
    "    for line in re:\n",
    "        print(line)"
   ]
  },
  {
   "cell_type": "code",
   "execution_count": null,
   "metadata": {},
   "outputs": [],
   "source": []
  }
 ],
 "metadata": {
  "kernelspec": {
   "display_name": "Python 3",
   "language": "python",
   "name": "python3"
  },
  "language_info": {
   "codemirror_mode": {
    "name": "ipython",
    "version": 3
   },
   "file_extension": ".py",
   "mimetype": "text/x-python",
   "name": "python",
   "nbconvert_exporter": "python",
   "pygments_lexer": "ipython3",
   "version": "3.8.3"
  }
 },
 "nbformat": 4,
 "nbformat_minor": 4
}
